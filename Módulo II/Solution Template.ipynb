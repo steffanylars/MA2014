{
 "cells": [
  {
   "cell_type": "markdown",
   "id": "9aace8c4",
   "metadata": {},
   "source": [
    "# Solution Template\n",
    "\n",
    "Use this notebook as a guide to implement your solution. Keep in mind that some cells should remain as they are so that you code works properly, for instance, the following cell in which the required libraries are imported."
   ]
  },
  {
   "cell_type": "code",
   "execution_count": null,
   "id": "1e345adc",
   "metadata": {},
   "outputs": [],
   "source": [
    "import pandas as pd\n",
    "import numpy as np\n",
    "import networkx as nx # for drawing graphs\n",
    "import matplotlib.pyplot as plt # for drawing graphs\n",
    "from pybbn.graph.dag import Bbn # for creating Bayesian Belief Networks (BBN)\n",
    "from pybbn.graph.edge import Edge, EdgeType\n",
    "from pybbn.graph.jointree import EvidenceBuilder\n",
    "from pybbn.graph.node import BbnNode\n",
    "from pybbn.graph.variable import Variable\n",
    "from pybbn.pptc.inferencecontroller import InferenceController"
   ]
  },
  {
   "cell_type": "markdown",
   "id": "f40fd4d1",
   "metadata": {},
   "source": [
    "Just run the next cell to load the data."
   ]
  },
  {
   "cell_type": "code",
   "execution_count": null,
   "id": "d309c4b0",
   "metadata": {},
   "outputs": [],
   "source": [
    "diabetes = pd.read_csv('diabetes-dataset.csv')\n",
    "diabetes.head()"
   ]
  },
  {
   "cell_type": "markdown",
   "id": "0ddde590",
   "metadata": {},
   "source": [
    "Create a new column called `Overweight` in which a person whose `BMI` is above 25 will be tagged as a one, and zero otherwise."
   ]
  },
  {
   "cell_type": "code",
   "execution_count": null,
   "id": "3584d987",
   "metadata": {},
   "outputs": [],
   "source": [
    "diabetes['Overweight'] = (diabetes['BMI'] > 25).astype(int)"
   ]
  },
  {
   "cell_type": "markdown",
   "id": "910a939f",
   "metadata": {},
   "source": [
    "You are to code the next function, which discretize all the variables of the dataset, except `Outcome` and `Overweight`. Remember that you will discretize with respect to the quantiles of each variables: if a variable value is less than Q1, then said value is replaced by a **zero**; if the given value is greater or equal than Q1 but less than Q2, then the value should be replaced by a **one**; if the variable value is greater or equal than Q2 but less than Q3, then the value should be replaced by a **two**; finally, if a variable value is greater than Q3, it should be assigned the value **three**. "
   ]
  },
  {
   "cell_type": "code",
   "execution_count": null,
   "id": "2653c4bd",
   "metadata": {},
   "outputs": [],
   "source": [
    "def discretize(df):\n",
    "    \n",
    "    \"\"\"\n",
    "    This function receives a dataframe as input and returns a dataframe in which each variable has been \n",
    "    discretized. \n",
    "    \"\"\"\n",
    "    \n",
    "    \"INSERT YOUR CODE HERE\"\n",
    "    \n",
    "    discretized_df = df.copy()\n",
    "    cols = [col for col in df.columns if col not in ['Outcome', 'Overweight']]\n",
    "\n",
    "    for col in cols:\n",
    "        q1, q2, q3 = df[col].quantile([0.25, 0.50, 0.75])\n",
    "        discretized_df[col] = df[col].apply(\n",
    "            lambda x: 0 if x < q1 else 1 if x < q2 else 2 if x < q3 else 3\n",
    "        )\n",
    "\n",
    "    return discretized_df"
   ]
  },
  {
   "cell_type": "code",
   "execution_count": null,
   "id": "7a1080ca",
   "metadata": {},
   "outputs": [],
   "source": [
    "discrete_df = discretize(diabetes)\n",
    "discrete_df"
   ]
  },
  {
   "cell_type": "markdown",
   "id": "454cee1f",
   "metadata": {},
   "source": [
    "In the following cel you are to create two dictionaries: `graph` will store the topology of the Bayesian network, so each element is associated to a list that contains the names of the parents of said element; `values` stores the values that each variable of the network takes, which are the discrete values that were computed above."
   ]
  },
  {
   "cell_type": "code",
   "execution_count": null,
   "id": "0a4c5463",
   "metadata": {},
   "outputs": [],
   "source": [
    "graph = {'Overweight': [],\n",
    "         'DiabetesPedigreeFunction': [],\n",
    "         'Age': [],\n",
    "         'Pregnancies': [],\n",
    "         'SkinThickness' : ['Overweight'],\n",
    "         'BMI': ['Overweight'],\n",
    "         'Outcome': ['Overweight','DiabetesPedigreeFunction','Age','Pregnancies'],\n",
    "         'BloodPressure': ['Overweight','Outcome'],\n",
    "         'Insulin': ['Outcome'],\n",
    "         'Glucose': ['Outcome']}\n",
    "\n",
    "values = {'Overweight': [0,1],\n",
    "          'DiabetesPedigreeFunction': [0,1,2,3],\n",
    "          'Age': [0,1,2,3],\n",
    "          'Pregnancies': [0,1,2,3],\n",
    "          'SkinThickness' : [0,1,2,3],\n",
    "          'BMI': [0,1,2,3],\n",
    "          'Outcome': [0,1],\n",
    "          'BloodPressure': [0,1,2,3],\n",
    "          'Insulin': [0,1,2,3],\n",
    "          'Glucose': [0,1,2,3]}"
   ]
  },
  {
   "cell_type": "markdown",
   "id": "8432917e",
   "metadata": {},
   "source": [
    "The next function obtains the probabilities of a given node. This function will be used later to create a dictionary in which each element contains a node and its list of probabilities."
   ]
  },
  {
   "cell_type": "code",
   "execution_count": null,
   "id": "84081654",
   "metadata": {},
   "outputs": [],
   "source": [
    "def probabilities(df, node):\n",
    "    \n",
    "    \"\"\"\n",
    "    This function computes the probabilities of a given node. It should receive a dataframe and the dictionaries\n",
    "    graph and values. The probabilities shoud be stored in a list and returned in probabilities_list.\n",
    "    \"\"\"\n",
    "    \n",
    "    probabilities_list = []\n",
    "    \n",
    "    \"INSERT YOUR CODE HERE\"\n",
    "\n",
    "    parents = graph[node]\n",
    "    node_values = values[node]\n",
    "\n",
    "    if len(parents) == 0:\n",
    "        total = len(df)\n",
    "        for node_value in node_values:\n",
    "            p = len(df[df[node] == node_value]) / total\n",
    "            probabilities_list.append(p)\n",
    "    \n",
    "    else:\n",
    "        parent_values = [values[parent] for parent in parents]\n",
    "        from itertools import product\n",
    "\n",
    "        for pair in product(*parent_values):            \n",
    "            subset = df.copy()\n",
    "            for i, parent in enumerate(parents):\n",
    "                subset = subset[subset[parent] == pair[i]]\n",
    "\n",
    "            total = len(subset)\n",
    "\n",
    "            if total > 0:\n",
    "                for node_value in node_values:\n",
    "                    p = len(subset[subset[node] == val]) / total\n",
    "                    probabilities_list.append(p)\n",
    "            else:\n",
    "                for val in node_values:\n",
    "                    probabilities_list.append(0)\n",
    "        \n",
    "    return probabilities_list"
   ]
  },
  {
   "cell_type": "markdown",
   "id": "d57eb77e",
   "metadata": {},
   "source": [
    "The following function must create a dictionary in which item is a node and its corresponding list of probabilities"
   ]
  },
  {
   "cell_type": "code",
   "execution_count": null,
   "id": "a0def965",
   "metadata": {},
   "outputs": [],
   "source": [
    "def tables(df):\n",
    "\n",
    "    \"\"\"\n",
    "    This function returns a dictionary in which each element is a node and its list of probabilities. It should\n",
    "    call the above function, probabilities, which computes the probabilities of a given node.\n",
    "    \"\"\"\n",
    "\n",
    "    probabilities_tables = {}\n",
    "\n",
    "    \"INSERT YOUR CODE HERE\"\n",
    "\n",
    "    for node in graph:\n",
    "        probabilities_tables[node] = probabilities(df, node)\n",
    "\n",
    "    return probabilities_tables"
   ]
  },
  {
   "cell_type": "markdown",
   "id": "36ab329f",
   "metadata": {},
   "source": [
    "Create the nodes of the network in this cell. For each line, replace `\"node index\"` and the empty list by the proper variable name and variable values, respectively."
   ]
  },
  {
   "cell_type": "code",
   "execution_count": null,
   "id": "c34791a1",
   "metadata": {},
   "outputs": [],
   "source": [
    "table = tables(discrete_df)\n",
    "\n",
    "overweight_probabilities = table['Overweight']\n",
    "diabetes_pedigree_function_probabilities = table['DiabetesPedigreeFunction']\n",
    "age_probabilities = table['Age']\n",
    "pregnancies_probabilities = table['Pregnancies']\n",
    "skin_thickness_probabilities = table['SkinThickness']\n",
    "bmi_probabilities = table['BMI']\n",
    "outcome_probabilities = table['Outcome']\n",
    "blood_pressure_probabilities = table['BloodPressure']\n",
    "insulin_probabilities = table['Insulin']\n",
    "glucose_probabilities = table['Glucose']"
   ]
  },
  {
   "cell_type": "code",
   "execution_count": null,
   "id": "3783b4c4",
   "metadata": {},
   "outputs": [],
   "source": [
    "overweight = BbnNode(Variable(0, 'Overweight', ['0','1']), overweight_probabilities)\n",
    "diabetes_pedigree_function = BbnNode(Variable(1, 'DiabetesPedigreeFunction', ['0','1','2','3']), diabetes_pedigree_function_probabilities)\n",
    "age = BbnNode(Variable(2, 'Age', ['0','1','2','3']), age_probabilities)\n",
    "pregnancies = BbnNode(Variable(3, 'Pregnancies', ['0','1','2','3']), pregnancies_probabilities)\n",
    "skin_thickness = BbnNode(Variable(4, 'SkinThickness', ['0','1','2','3']), skin_thickness_probabilities)\n",
    "bmi = BbnNode(Variable(5, 'BMI', ['0','1','2','3']), bmi_probabilities)\n",
    "outcome = BbnNode(Variable(6, 'Outcome', ['0','1']), outcome_probabilities)\n",
    "blood_pressure = BbnNode(Variable(7, 'BloodPressure', ['0','1','2','3']), blood_pressure_probabilities)\n",
    "insulin = BbnNode(Variable(8, 'Insulin', ['0','1','2','3']), insulin_probabilities)\n",
    "glucose = BbnNode(Variable(9, 'Glucose', ['0','1','2','3']), glucose_probabilities)"
   ]
  },
  {
   "cell_type": "markdown",
   "id": "0ffa1a81",
   "metadata": {},
   "source": [
    "Implement your graph in the following cell. Add as many nodes and edges as necessary. Replace the strings by the proper variables."
   ]
  },
  {
   "cell_type": "code",
   "execution_count": null,
   "id": "337aa95e",
   "metadata": {},
   "outputs": [],
   "source": [
    "bbn = Bbn() \\\n",
    "    .add_node(overweight) \\\n",
    "    .add_node(diabetes_pedigree_function) \\\n",
    "    .add_node(age) \\\n",
    "    .add_node(pregnancies) \\\n",
    "    .add_node(skin_thickness) \\\n",
    "    .add_node(bmi) \\\n",
    "    .add_node(outcome) \\\n",
    "    .add_node(blood_pressure) \\\n",
    "    .add_node(insulin) \\\n",
    "    .add_node(glucose) \\\n",
    "    .add_edge(Edge(overweight, skin_thickness, EdgeType.DIRECTED)) \\\n",
    "    .add_edge(Edge(overweight, bmi, EdgeType.DIRECTED)) \\\n",
    "    .add_edge(Edge(overweight, outcome, EdgeType.DIRECTED)) \\\n",
    "    .add_edge(Edge(overweight, blood_pressure, EdgeType.DIRECTED)) \\\n",
    "    .add_edge(Edge(diabetes_pedigree_function, outcome, EdgeType.DIRECTED)) \\\n",
    "    .add_edge(Edge(age, outcome, EdgeType.DIRECTED)) \\\n",
    "    .add_edge(Edge(pregnancies, outcome, EdgeType.DIRECTED)) \\\n",
    "    .add_edge(Edge(outcome, blood_pressure, EdgeType.DIRECTED)) \\\n",
    "    .add_edge(Edge(outcome, insulin, EdgeType.DIRECTED)) \\\n",
    "    .add_edge(Edge(outcome, glucose, EdgeType.DIRECTED))"
   ]
  },
  {
   "cell_type": "markdown",
   "id": "c5df353f",
   "metadata": {},
   "source": [
    "Do not forget to run this cell and do not modify it, inferences depend on it."
   ]
  },
  {
   "cell_type": "code",
   "execution_count": null,
   "id": "c2c8f824",
   "metadata": {},
   "outputs": [],
   "source": [
    "# Convert the BBN to a join tree. Do not modify this cell.\n",
    "\n",
    "join_tree = InferenceController.apply(bbn)"
   ]
  },
  {
   "cell_type": "markdown",
   "id": "c64cbf94",
   "metadata": {},
   "source": [
    "The following cell is very useful for visualizing your Bayesian network. It is very recommended that you make the necessary changes and run it to verify that your network was implementented correctly."
   ]
  },
  {
   "cell_type": "code",
   "execution_count": null,
   "id": "385f2d86",
   "metadata": {},
   "outputs": [],
   "source": [
    "# Set node positions.\n",
    "\n",
    "pos = {\n",
    "    0: (16, 8),\n",
    "    1: (12, 12),\n",
    "    2: (4, 12),\n",
    "    3: (0, 8),\n",
    "    4: (20, 12),\n",
    "    5: (20, 4),\n",
    "    6: (8, 8),\n",
    "    7: (12, 4),\n",
    "    8: (4, 4),\n",
    "    9: (8, 0)\n",
    "}\n",
    "\n",
    "# Set options for graph looks. You might have to adjust these parameters.\n",
    "\n",
    "options = {\"font_size\" : 16, \"node_size\" : 2750, \"node_color\" : \"yellow\",\n",
    "           \"edgecolors\" : \"black\", \"edge_color\" : \"red\", \"linewidths\" : 5,\n",
    "           \"width\": 5}\n",
    "\n",
    "# Generate graph.\n",
    "\n",
    "n, d = bbn.to_nx_graph()\n",
    "nx.draw(n, with_labels=True, labels=d, pos=pos, **options)\n",
    "\n",
    "# Update margins and print the graph.\n",
    "\n",
    "ax = plt.gca()\n",
    "ax.margins(0.3)\n",
    "plt.axis(\"off\")\n",
    "plt.show()"
   ]
  },
  {
   "cell_type": "markdown",
   "id": "2fcf4fcd",
   "metadata": {},
   "source": [
    "The goal of `print_probs` is to print out the probability distributions of all the nodes of the network. You can modify this code to print only the distributions of certain nodes if you find that helpful."
   ]
  },
  {
   "cell_type": "code",
   "execution_count": null,
   "id": "89954e02",
   "metadata": {},
   "outputs": [],
   "source": [
    "# Define a function for printing marginal probabilities.\n",
    "\n",
    "def print_probs():\n",
    "    for node in join_tree.get_bbn_nodes():\n",
    "        potential = join_tree.get_bbn_potential(node)\n",
    "        print(\"Node:\", node)\n",
    "        print(\"Values:\")\n",
    "        print(potential)\n",
    "        print('----------------')\n",
    "\n",
    "# Use the above function to print marginal probabilities.\n",
    "\n",
    "print_probs()"
   ]
  },
  {
   "cell_type": "markdown",
   "id": "d20aca59",
   "metadata": {},
   "source": [
    "The function `evidence` helps tyou to create evidence that will be used for making inferences. Do not modify this cell, please."
   ]
  },
  {
   "cell_type": "code",
   "execution_count": null,
   "id": "d81a3eec",
   "metadata": {},
   "outputs": [],
   "source": [
    "# To add evidence of events that happened so probability distribution can be recalculated.\n",
    "\n",
    "def evidence(ev, nod, val, like):\n",
    "    ev = EvidenceBuilder() \\\n",
    "    .with_node(join_tree.get_bbn_node_by_name(nod)) \\\n",
    "    .with_evidence(val, like) \\\n",
    "    .build()\n",
    "    join_tree.set_observation(ev)"
   ]
  },
  {
   "cell_type": "markdown",
   "id": "a5138591",
   "metadata": {},
   "source": [
    "Now you are ready to add evidence and print out the new distributions of your network. "
   ]
  },
  {
   "cell_type": "code",
   "execution_count": null,
   "id": "cd79b476",
   "metadata": {},
   "outputs": [],
   "source": [
    "# Use above function to add evidence.\n",
    "\n",
    "# evidence('ev1', 'node name', 'value', 1)\n",
    "\n",
    "# Print marginal probabilities.\n",
    "\n",
    "# print_probs()"
   ]
  },
  {
   "cell_type": "markdown",
   "id": "1ed16fac",
   "metadata": {},
   "source": [
    "If you need to reset the Bayesian network, rerun this line of code or rerun the above cell twice."
   ]
  },
  {
   "cell_type": "code",
   "execution_count": null,
   "id": "8c16d7ff",
   "metadata": {},
   "outputs": [],
   "source": [
    "# join_tree = InferenceController.apply(bbn)"
   ]
  },
  {
   "cell_type": "code",
   "execution_count": null,
   "id": "fd0fd22b",
   "metadata": {},
   "outputs": [],
   "source": [
    "def run_experiments():\n",
    "    \"\"\"\n",
    "    Runs Bayesian inference experiments with different sets of evidence.\n",
    "    \"\"\"\n",
    "    print(\"BAYESIAN INFERENCE EXPERIMENTS\")\n",
    "\n",
    "    # Experiment 1: High Glucose\n",
    "    print(\"\\n\",\"Experiment 1: Effect of High Glucose\")\n",
    "    print(\"\\nInitial probability of diabetes:\")\n",
    "    print_probs()\n",
    "\n",
    "    evidence('ev1', 'Glucose', '3', 1.0)\n",
    "    print(\"\\nProbability after observing high Glucose (3):\")\n",
    "    print_probs()\n",
    "\n",
    "    # Reset inference controller\n",
    "    global join_tree\n",
    "    join_tree = InferenceController.apply(bbn)\n",
    "\n",
    "    # Experiment 2: Overweight + Advanced Age\n",
    "    print(\"\\n\",\"Experiment 2: Overweight + Advanced Age\")\n",
    "    evidence('ev1', 'Overweight', '1', 1.0)\n",
    "    evidence('ev2', 'Age', '3', 1.0)\n",
    "    print(\"\\nProbability with Overweight=1 and Age=3:\")\n",
    "    print_probs()\n",
    "\n",
    "    # Reset\n",
    "    join_tree = InferenceController.apply(bbn)\n",
    "\n",
    "    # Experiment 3: Multiple Risk Factors\n",
    "    print(\"\\n\",\"Experiment 3: Multiple Risk Factors\")\n",
    "    evidence('ev1', 'Glucose', '3', 1.0)\n",
    "    evidence('ev2', 'Overweight', '1', 1.0)\n",
    "    evidence('ev3', 'BloodPressure', '3', 1.0)\n",
    "    print(\"\\nProbability with multiple risk factors:\")\n",
    "    print_probs()\n",
    "\n",
    "    # Reset\n",
    "    join_tree = InferenceController.apply(bbn)\n",
    "\n",
    "    # Experiment 4: Protective Factors\n",
    "    print(\"\\n\",\" Experiment 4: Protective Factors\")\n",
    "    evidence('ev1', 'Glucose', '0', 1.0)\n",
    "    evidence('ev2', 'Overweight', '0', 1.0)\n",
    "    evidence('ev3', 'Age', '0', 1.0)\n",
    "    print(\"\\nProbability with protective factors:\")\n",
    "    print_probs()\n",
    "\n",
    "    # Reset\n",
    "    join_tree = InferenceController.apply(bbn)\n",
    "\n",
    "    # Experiment 5: Inverse Diagnosis\n",
    "    print(\"\\n\",\" Experiment 5: Inverse Diagnosis\")\n",
    "    evidence('ev1', 'Outcome', '1', 1.0)\n",
    "    print(\"\\nDistribution of factors given Outcome=1 (diabetes):\")\n",
    "    print_probs()\n",
    "\n",
    "\n",
    "# Run all experiments\n",
    "run_experiments()"
   ]
  }
 ],
 "metadata": {
  "kernelspec": {
   "display_name": "Python 3 (ipykernel)",
   "language": "python",
   "name": "python3"
  },
  "language_info": {
   "codemirror_mode": {
    "name": "ipython",
    "version": 3
   },
   "file_extension": ".py",
   "mimetype": "text/x-python",
   "name": "python",
   "nbconvert_exporter": "python",
   "pygments_lexer": "ipython3",
   "version": "3.13.3"
  }
 },
 "nbformat": 4,
 "nbformat_minor": 5
}
